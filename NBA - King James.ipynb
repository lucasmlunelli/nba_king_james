{
 "cells": [
  {
   "cell_type": "markdown",
   "metadata": {},
   "source": [
    "# NBA"
   ]
  },
  {
   "cell_type": "markdown",
   "metadata": {},
   "source": [
    "Load packages"
   ]
  },
  {
   "cell_type": "code",
   "execution_count": 1,
   "metadata": {},
   "outputs": [],
   "source": [
    "import pandas as pd\n",
    "import numpy as np\n",
    "\n",
    "# ignore warnings\n",
    "import warnings\n",
    "warnings.filterwarnings('ignore') \n",
    "\n",
    "# pandas defaults\n",
    "pd.set_option('display.max_rows', 10)\n",
    "pd.set_option('display.max_columns', 500)"
   ]
  },
  {
   "cell_type": "markdown",
   "metadata": {},
   "source": [
    "Retrieve data"
   ]
  },
  {
   "cell_type": "code",
   "execution_count": 2,
   "metadata": {},
   "outputs": [],
   "source": [
    "# function to retrieve data from basketball-reference.com\n",
    "def extract(url,i):\n",
    "    dfs = []\n",
    "    for year in range(i,2021):\n",
    "        df = pd.read_html(url.format(year), header=None)[0]\n",
    "        df['season'] = year\n",
    "        dfs.append(df)\n",
    "    return pd.concat(dfs)"
   ]
  },
  {
   "cell_type": "code",
   "execution_count": 3,
   "metadata": {},
   "outputs": [],
   "source": [
    "# create dataframes with data\n",
    "totals = extract('https://www.basketball-reference.com/leagues/NBA_{}_totals.html',1950)   \n",
    "advanced = extract('https://www.basketball-reference.com/leagues/NBA_{}_advanced.html',1950)\n",
    "awards = extract('https://www.basketball-reference.com/awards/awards_{}.html',1956)"
   ]
  },
  {
   "cell_type": "code",
   "execution_count": 4,
   "metadata": {},
   "outputs": [],
   "source": [
    "# retrieve number os games in each season\n",
    "df = pd.read_html('https://en.wikipedia.org/wiki/List_of_National_Basketball_Association_seasons', header=None)[0]\n",
    "df.columns = df.columns.droplevel()\n",
    "games = df[['Regular season','No. of games[e]','Finals']]\n",
    "games.columns = ['Season', 'a','b','games', 'season', 'c']\n",
    "games = games.join(pd.DataFrame(games['games'].str.split('–').tolist(), index= df.index), how='inner')"
   ]
  },
  {
   "cell_type": "markdown",
   "metadata": {},
   "source": [
    "Prepare data"
   ]
  },
  {
   "cell_type": "code",
   "execution_count": 5,
   "metadata": {},
   "outputs": [],
   "source": [
    "# keep only useful fields and remove duplicated entries for a player in a season\n",
    "# duplicated entries happens when a player is part of multiple teams in the same season\n",
    "totals_new = totals.drop_duplicates(['Player','season'])\n",
    "totals_new = totals_new[['Player','G','MP','TRB','AST','PTS','season']]\n",
    "\n",
    "advanced_new = advanced.drop_duplicates(['Player','season'])\n",
    "advanced_new = advanced_new[['Player','PER','USG%', 'WS', 'VORP','BPM', 'season']]\n",
    "\n",
    "awards.columns=awards.columns.droplevel()\n",
    "awards_new = awards[['Player','Share','']].rename(columns={'':'season'})\n",
    "\n",
    "# find minimum games to be eligible to season rankings\n",
    "games['min_games']=0.7*pd.to_numeric(games[0])\n",
    "games_new = games[['Season', 'season', 'min_games']]"
   ]
  },
  {
   "cell_type": "code",
   "execution_count": 6,
   "metadata": {},
   "outputs": [],
   "source": [
    "# join tables\n",
    "data = pd.merge(totals_new, advanced_new, on=['Player', 'season'], how='left')\n",
    "data['Player'] = data['Player'].str.replace('*','')\n",
    "data = pd.merge(data, awards_new, on=['Player', 'season'], how='left')\n",
    "data = pd.merge(data, games_new, on=['season'], how='left')\n",
    "\n",
    "# clean data\n",
    "data = data[data['Player']!='Player']\n",
    "cols = data.columns.drop(['Player', 'Season'])\n",
    "data[cols] = data[cols].apply(pd.to_numeric, errors='coerce')\n",
    "                              \n",
    "# create per game stats\n",
    "data['PTS_G'], data['MP_G'] = [data['PTS']/data['G'] , data['MP']/data['G']]\n",
    "data = pd.melt(data, id_vars=['Player','season', 'Season', 'min_games', 'G', 'MP'], value_name='metric')\n",
    "\n",
    "# remove nulls\n",
    "data.dropna(axis=0, inplace=True)\n",
    "\n",
    "# creation of new fields\n",
    "data['eligible_season'] = np.select([(data['G'] >= data['min_games'])], [True], default=False) \n",
    "data['metric_weight'] = data['MP']*data['metric']\n",
    "data['rank'] = data[data['eligible_season']==True].groupby(['season','variable'])[['metric']]\\\n",
    "                                                    .rank('first', ascending=False)\n",
    "data['top'] = np.select([(data['rank'] <= 10)], [True], default=False)\n",
    "\n",
    "# rename columns\n",
    "data.rename(columns={'G':'games_played', 'MP':'minutes_played', 'Player':'player_name',\n",
    "                     'season':'year', 'Season':'season'}, inplace=True)\n",
    "\n",
    "# transpose to get the final data\n",
    "final= pd.melt(data, id_vars=['player_name','season', 'year', 'games_played', 'minutes_played','top', 'eligible_season',\n",
    "                         'variable','metric_weight' ], value_vars=['metric','rank'], var_name='type' ,value_name='value')"
   ]
  },
  {
   "cell_type": "markdown",
   "metadata": {},
   "source": [
    "Save data"
   ]
  },
  {
   "cell_type": "code",
   "execution_count": 7,
   "metadata": {},
   "outputs": [
    {
     "data": {
      "text/html": [
       "<div>\n",
       "<style scoped>\n",
       "    .dataframe tbody tr th:only-of-type {\n",
       "        vertical-align: middle;\n",
       "    }\n",
       "\n",
       "    .dataframe tbody tr th {\n",
       "        vertical-align: top;\n",
       "    }\n",
       "\n",
       "    .dataframe thead th {\n",
       "        text-align: right;\n",
       "    }\n",
       "</style>\n",
       "<table border=\"1\" class=\"dataframe\">\n",
       "  <thead>\n",
       "    <tr style=\"text-align: right;\">\n",
       "      <th></th>\n",
       "      <th>player_name</th>\n",
       "      <th>season</th>\n",
       "      <th>year</th>\n",
       "      <th>games_played</th>\n",
       "      <th>minutes_played</th>\n",
       "      <th>top</th>\n",
       "      <th>eligible_season</th>\n",
       "      <th>variable</th>\n",
       "      <th>metric_weight</th>\n",
       "      <th>type</th>\n",
       "      <th>value</th>\n",
       "    </tr>\n",
       "  </thead>\n",
       "  <tbody>\n",
       "    <tr>\n",
       "      <th>0</th>\n",
       "      <td>Paul Arizin</td>\n",
       "      <td>1951–52</td>\n",
       "      <td>1952</td>\n",
       "      <td>66</td>\n",
       "      <td>2939.0</td>\n",
       "      <td>True</td>\n",
       "      <td>True</td>\n",
       "      <td>TRB</td>\n",
       "      <td>2189555.0</td>\n",
       "      <td>metric</td>\n",
       "      <td>745.0</td>\n",
       "    </tr>\n",
       "    <tr>\n",
       "      <th>1</th>\n",
       "      <td>Cliff Barker</td>\n",
       "      <td>1951–52</td>\n",
       "      <td>1952</td>\n",
       "      <td>44</td>\n",
       "      <td>494.0</td>\n",
       "      <td>False</td>\n",
       "      <td>False</td>\n",
       "      <td>TRB</td>\n",
       "      <td>40014.0</td>\n",
       "      <td>metric</td>\n",
       "      <td>81.0</td>\n",
       "    </tr>\n",
       "    <tr>\n",
       "      <th>2</th>\n",
       "      <td>Don Barksdale</td>\n",
       "      <td>1951–52</td>\n",
       "      <td>1952</td>\n",
       "      <td>62</td>\n",
       "      <td>2014.0</td>\n",
       "      <td>False</td>\n",
       "      <td>True</td>\n",
       "      <td>TRB</td>\n",
       "      <td>1210414.0</td>\n",
       "      <td>metric</td>\n",
       "      <td>601.0</td>\n",
       "    </tr>\n",
       "    <tr>\n",
       "      <th>3</th>\n",
       "      <td>Leo Barnhorst</td>\n",
       "      <td>1951–52</td>\n",
       "      <td>1952</td>\n",
       "      <td>66</td>\n",
       "      <td>2344.0</td>\n",
       "      <td>False</td>\n",
       "      <td>True</td>\n",
       "      <td>TRB</td>\n",
       "      <td>1007920.0</td>\n",
       "      <td>metric</td>\n",
       "      <td>430.0</td>\n",
       "    </tr>\n",
       "    <tr>\n",
       "      <th>4</th>\n",
       "      <td>Elmer Behnke</td>\n",
       "      <td>1951–52</td>\n",
       "      <td>1952</td>\n",
       "      <td>4</td>\n",
       "      <td>55.0</td>\n",
       "      <td>False</td>\n",
       "      <td>False</td>\n",
       "      <td>TRB</td>\n",
       "      <td>935.0</td>\n",
       "      <td>metric</td>\n",
       "      <td>17.0</td>\n",
       "    </tr>\n",
       "  </tbody>\n",
       "</table>\n",
       "</div>"
      ],
      "text/plain": [
       "     player_name   season  year  games_played  minutes_played    top  \\\n",
       "0    Paul Arizin  1951–52  1952            66          2939.0   True   \n",
       "1   Cliff Barker  1951–52  1952            44           494.0  False   \n",
       "2  Don Barksdale  1951–52  1952            62          2014.0  False   \n",
       "3  Leo Barnhorst  1951–52  1952            66          2344.0  False   \n",
       "4   Elmer Behnke  1951–52  1952             4            55.0  False   \n",
       "\n",
       "   eligible_season variable  metric_weight    type  value  \n",
       "0             True      TRB      2189555.0  metric  745.0  \n",
       "1            False      TRB        40014.0  metric   81.0  \n",
       "2             True      TRB      1210414.0  metric  601.0  \n",
       "3             True      TRB      1007920.0  metric  430.0  \n",
       "4            False      TRB          935.0  metric   17.0  "
      ]
     },
     "execution_count": 7,
     "metadata": {},
     "output_type": "execute_result"
    }
   ],
   "source": [
    "final.to_csv('nba.csv')\n",
    "final.head()"
   ]
  }
 ],
 "metadata": {
  "kernelspec": {
   "display_name": "Python 3",
   "language": "python",
   "name": "python3"
  },
  "language_info": {
   "codemirror_mode": {
    "name": "ipython",
    "version": 3
   },
   "file_extension": ".py",
   "mimetype": "text/x-python",
   "name": "python",
   "nbconvert_exporter": "python",
   "pygments_lexer": "ipython3",
   "version": "3.7.6"
  }
 },
 "nbformat": 4,
 "nbformat_minor": 4
}
